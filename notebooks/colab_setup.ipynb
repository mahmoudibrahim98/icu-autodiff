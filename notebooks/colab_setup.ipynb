{
 "cells": [
  {
   "cell_type": "code",
   "execution_count": null,
   "metadata": {
    "vscode": {
     "languageId": "plaintext"
    }
   },
   "outputs": [],
   "source": [
    "# -------------------------------------------------------------------\n",
    "# 📦 1) Clone your repo & cd into it\n",
    "# -------------------------------------------------------------------\n",
    "!git clone https://github.com/mahmoudibrahim98/icu-autodiff.git\n",
    "%cd icu-autodiff\n",
    "\n",
    "# -------------------------------------------------------------------\n",
    "# 📦 2) Install  project dependencies\n",
    "# -------------------------------------------------------------------\n",
    "\n",
    "!pip install -r requirements.txt\n",
    "\n",
    "# -------------------------------------------------------------------\n",
    "# 📦 3) (If your code lives in subfolders) add them to PYTHONPATH\n",
    "# -------------------------------------------------------------------\n",
    "import sys\n",
    "sys.path.append('.')         # or 'src', etc., depending on your layout\n",
    "\n",
    "# -------------------------------------------------------------------\n",
    "# 📦 4) (Optional) Mount Drive for large data\n",
    "# -------------------------------------------------------------------\n",
    "#from google.colab import drive\n",
    "#drive.mount('/content/drive')\n",
    "#DATA_DIR = '/content/drive/MyDrive/yourproject/data'\n"
   ]
  }
 ],
 "metadata": {
  "language_info": {
   "name": "python"
  }
 },
 "nbformat": 4,
 "nbformat_minor": 2
}
